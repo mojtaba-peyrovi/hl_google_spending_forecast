{
 "cells": [
  {
   "cell_type": "code",
   "execution_count": 176,
   "metadata": {},
   "outputs": [],
   "source": [
    "import requests\n",
    "import json\n",
    "import statistics\n",
    "import datetime"
   ]
  },
  {
   "cell_type": "code",
   "execution_count": 177,
   "metadata": {},
   "outputs": [],
   "source": [
    "end_date = datetime.datetime.now()\n",
    "start_date= end_date - datetime.timedelta(days=30)"
   ]
  },
  {
   "cell_type": "code",
   "execution_count": 178,
   "metadata": {},
   "outputs": [
    {
     "data": {
      "text/plain": [
       "datetime.date(2019, 7, 2)"
      ]
     },
     "execution_count": 178,
     "metadata": {},
     "output_type": "execute_result"
    }
   ],
   "source": [
    "end_date.date()\n"
   ]
  },
  {
   "cell_type": "code",
   "execution_count": 179,
   "metadata": {},
   "outputs": [],
   "source": [
    "url = 'https://api.exchangeratesapi.io/history'\n",
    "params = {\"start_at\":start_date.date(),\"end_at\":end_date.date(),\"symbols\":\"USD,THB\"}     \n",
    "resp = requests.get(url, params = params)\n",
    "# data = json.loads(resp.json())\n",
    "data = resp.json()['rates']"
   ]
  },
  {
   "cell_type": "code",
   "execution_count": 180,
   "metadata": {},
   "outputs": [
    {
     "data": {
      "text/plain": [
       "{'2019-06-04': {'USD': 1.1244, 'THB': 35.188},\n",
       " '2019-06-17': {'USD': 1.1234, 'THB': 35.196},\n",
       " '2019-06-11': {'USD': 1.132, 'THB': 35.403},\n",
       " '2019-07-01': {'USD': 1.1349, 'THB': 34.771},\n",
       " '2019-06-25': {'USD': 1.1388, 'THB': 34.973},\n",
       " '2019-06-26': {'USD': 1.1362, 'THB': 34.955},\n",
       " '2019-06-18': {'USD': 1.1187, 'THB': 35.043},\n",
       " '2019-06-27': {'USD': 1.137, 'THB': 35.003},\n",
       " '2019-06-13': {'USD': 1.1289, 'THB': 35.25},\n",
       " '2019-06-20': {'USD': 1.1307, 'THB': 34.978},\n",
       " '2019-06-14': {'USD': 1.1265, 'THB': 35.101},\n",
       " '2019-06-10': {'USD': 1.1301, 'THB': 35.423},\n",
       " '2019-06-07': {'USD': 1.1273, 'THB': 35.341},\n",
       " '2019-06-21': {'USD': 1.1316, 'THB': 34.859},\n",
       " '2019-06-05': {'USD': 1.1257, 'THB': 35.302},\n",
       " '2019-06-28': {'USD': 1.138, 'THB': 34.897},\n",
       " '2019-06-03': {'USD': 1.1185, 'THB': 35.138},\n",
       " '2019-06-19': {'USD': 1.1207, 'THB': 35.05},\n",
       " '2019-06-12': {'USD': 1.1323, 'THB': 35.379},\n",
       " '2019-06-24': {'USD': 1.1394, 'THB': 35.008},\n",
       " '2019-06-06': {'USD': 1.1266, 'THB': 35.285}}"
      ]
     },
     "execution_count": 180,
     "metadata": {},
     "output_type": "execute_result"
    }
   ],
   "source": [
    "data"
   ]
  },
  {
   "cell_type": "code",
   "execution_count": 181,
   "metadata": {},
   "outputs": [],
   "source": [
    "thb_values = []\n",
    "list_ = list(data.values())\n",
    "for item in range(len(list_)):\n",
    "   thb_values.append((list_)[item]['THB'])\n",
    "avg = round(statistics.mean(thb_values),2)    "
   ]
  },
  {
   "cell_type": "code",
   "execution_count": 182,
   "metadata": {},
   "outputs": [
    {
     "data": {
      "text/plain": [
       "35.12"
      ]
     },
     "execution_count": 182,
     "metadata": {},
     "output_type": "execute_result"
    }
   ],
   "source": [
    "avg"
   ]
  },
  {
   "cell_type": "code",
   "execution_count": null,
   "metadata": {},
   "outputs": [],
   "source": []
  },
  {
   "cell_type": "code",
   "execution_count": null,
   "metadata": {},
   "outputs": [],
   "source": []
  }
 ],
 "metadata": {
  "kernelspec": {
   "display_name": "Python 3",
   "language": "python",
   "name": "python3"
  },
  "language_info": {
   "codemirror_mode": {
    "name": "ipython",
    "version": 3
   },
   "file_extension": ".py",
   "mimetype": "text/x-python",
   "name": "python",
   "nbconvert_exporter": "python",
   "pygments_lexer": "ipython3",
   "version": "3.7.3"
  }
 },
 "nbformat": 4,
 "nbformat_minor": 2
}
